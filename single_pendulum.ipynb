{
 "cells": [
  {
   "cell_type": "code",
   "execution_count": 1,
   "id": "9019f1a7",
   "metadata": {},
   "outputs": [
    {
     "data": {
      "text/plain": "<IPython.core.display.Latex object>",
      "text/latex": "(1) $F_{12x} = m_{2} \\left(- \\frac{\\ddot{\\theta_2} l_{2} \\sin{\\left(\\theta_{2} \\right)}}{2} - \\frac{\\dot{\\theta_2}^{2} l_{2} \\cos{\\left(\\theta_{2} \\right)}}{2}\\right)$"
     },
     "metadata": {},
     "output_type": "display_data"
    },
    {
     "data": {
      "text/plain": "<IPython.core.display.Latex object>",
      "text/latex": "(2) $F_{12y} - w_{2} = m_{2} \\left(\\frac{\\ddot{\\theta_2} l_{2} \\cos{\\left(\\theta_{2} \\right)}}{2} - \\frac{\\dot{\\theta_2}^{2} l_{2} \\sin{\\left(\\theta_{2} \\right)}}{2}\\right)$"
     },
     "metadata": {},
     "output_type": "display_data"
    },
    {
     "data": {
      "text/plain": "<IPython.core.display.Latex object>",
      "text/latex": "(3) $\\frac{F_{12x} l_{2} \\sin{\\left(\\theta_{2} \\right)}}{2} - \\frac{F_{12y} l_{2} \\cos{\\left(\\theta_{2} \\right)}}{2} = I_{2} \\ddot{\\theta_2}$"
     },
     "metadata": {},
     "output_type": "display_data"
    }
   ],
   "source": [
    "import sympy as sp\n",
    "from IPython.display import display, Latex\n",
    "\n",
    "F12x, F12y, w2, I2, t2, t2_dot, t2_ddot, m2, l2 = sp.symbols(r'F_{12x} F_{12y} w_2 I_2 \\theta_2 \\dot{\\theta_2} \\ddot{\\theta_2} m_2 l_2', real=True)\n",
    "\n",
    "a2 = l2/2*t2_ddot*sp.I*sp.exp(sp.I*t2) - l2/2*t2_dot**2*sp.exp(sp.I*t2)\n",
    "a2x = sp.re(a2)\n",
    "a2y = sp.im(a2)\n",
    "\n",
    "f1 = sp.Eq(F12x, m2*a2x)\n",
    "f2 = sp.Eq(F12y - w2, m2*a2y)\n",
    "f3 = sp.Eq(F12x*l2/2*sp.sin(t2) - F12y*l2/2*sp.cos(t2), I2*t2_ddot)\n",
    "\n",
    "for i, eq in enumerate([f1, f2, f3]):\n",
    "    display(Latex(f'({i+1}) ${sp.latex(eq)}$'))"
   ]
  },
  {
   "cell_type": "code",
   "execution_count": 2,
   "id": "33cde5f1",
   "metadata": {},
   "outputs": [
    {
     "data": {
      "text/plain": "<IPython.core.display.Latex object>",
      "text/latex": "$I_{2} \\ddot{\\theta_2} = - \\frac{l_{2} \\left(\\ddot{\\theta_2} l_{2} m_{2} + 2 w_{2} \\cos{\\left(\\theta_{2} \\right)}\\right)}{4}$"
     },
     "metadata": {},
     "output_type": "display_data"
    },
    {
     "data": {
      "text/plain": "-2*l_2*w_2*cos(\\theta_2)/(4*I_2 + l_2**2*m_2)",
      "text/latex": "$\\displaystyle - \\frac{2 l_{2} w_{2} \\cos{\\left(\\theta_{2} \\right)}}{4 I_{2} + l_{2}^{2} m_{2}}$"
     },
     "execution_count": 2,
     "metadata": {},
     "output_type": "execute_result"
    }
   ],
   "source": [
    "sol = sp.solve([f1, f2], (F12x, F12y), dict=True)[0]\n",
    "expr = f3.subs(F12x, sol[F12x]).subs(F12y, sol[F12y])\n",
    "display(Latex(f'${sp.latex(expr.simplify())}$'))\n",
    "t2_ddot_explicit = sp.solve(expr, t2_ddot)[0]\n",
    "t2_ddot_explicit"
   ]
  },
  {
   "cell_type": "code",
   "execution_count": 3,
   "id": "65ad4605",
   "metadata": {},
   "outputs": [
    {
     "data": {
      "text/plain": "-2*l_2*w_2*cos(\\theta_2)/(4*I_2 + l_2**2*m_2)",
      "text/latex": "$\\displaystyle - \\frac{2 l_{2} w_{2} \\cos{\\left(\\theta_{2} \\right)}}{4 I_{2} + l_{2}^{2} m_{2}}$"
     },
     "execution_count": 3,
     "metadata": {},
     "output_type": "execute_result"
    }
   ],
   "source": [
    "f4 = sp.Eq((I2 + m2*(l2/2)**2)*t2_ddot, -w2*l2/2*sp.cos(t2))\n",
    "sp.solve(f4, t2_ddot)[0]"
   ]
  }
 ],
 "metadata": {
  "kernelspec": {
   "display_name": "Python 3 (ipykernel)",
   "language": "python",
   "name": "python3"
  },
  "language_info": {
   "codemirror_mode": {
    "name": "ipython",
    "version": 3
   },
   "file_extension": ".py",
   "mimetype": "text/x-python",
   "name": "python",
   "nbconvert_exporter": "python",
   "pygments_lexer": "ipython3",
   "version": "3.9.6"
  }
 },
 "nbformat": 4,
 "nbformat_minor": 5
}