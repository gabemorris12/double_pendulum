{
 "cells": [
  {
   "cell_type": "code",
   "execution_count": 1,
   "id": "70685fe9",
   "metadata": {
    "scrolled": false
   },
   "outputs": [
    {
     "data": {
      "text/latex": [
       "(1) $F_{12x} - F_{32x} = m_{2} \\left(- \\frac{\\ddot{\\theta_2} l_{2} \\sin{\\left(\\theta_{2} \\right)}}{2} - \\frac{\\dot{\\theta_2}^{2} l_{2} \\cos{\\left(\\theta_{2} \\right)}}{2}\\right)$"
      ],
      "text/plain": [
       "<IPython.core.display.Latex object>"
      ]
     },
     "metadata": {},
     "output_type": "display_data"
    },
    {
     "data": {
      "text/latex": [
       "(2) $F_{12y} - F_{32y} - w_{2} = m_{2} \\left(\\frac{\\ddot{\\theta_2} l_{2} \\cos{\\left(\\theta_{2} \\right)}}{2} - \\frac{\\dot{\\theta_2}^{2} l_{2} \\sin{\\left(\\theta_{2} \\right)}}{2}\\right)$"
      ],
      "text/plain": [
       "<IPython.core.display.Latex object>"
      ]
     },
     "metadata": {},
     "output_type": "display_data"
    },
    {
     "data": {
      "text/latex": [
       "(3) $\\frac{F_{12x} l_{2} \\sin{\\left(\\theta_{2} \\right)}}{2} - \\frac{F_{12y} l_{2} \\cos{\\left(\\theta_{2} \\right)}}{2} + \\frac{F_{32x} l_{2} \\sin{\\left(\\theta_{2} \\right)}}{2} - \\frac{F_{32y} l_{2} \\cos{\\left(\\theta_{2} \\right)}}{2} + T_{12} = I_{2} \\ddot{\\theta_2}$"
      ],
      "text/plain": [
       "<IPython.core.display.Latex object>"
      ]
     },
     "metadata": {},
     "output_type": "display_data"
    },
    {
     "data": {
      "text/latex": [
       "(4) $- F_{32x} = m_{3} \\left(- \\ddot{\\theta_2} l_{2} \\sin{\\left(\\theta_{2} \\right)} - \\frac{\\ddot{\\theta_3} l_{3} \\sin{\\left(\\theta_{3} \\right)}}{2} - \\dot{\\theta_2}^{2} l_{2} \\cos{\\left(\\theta_{2} \\right)} - \\frac{\\dot{\\theta_3}^{2} l_{3} \\cos{\\left(\\theta_{3} \\right)}}{2}\\right)$"
      ],
      "text/plain": [
       "<IPython.core.display.Latex object>"
      ]
     },
     "metadata": {},
     "output_type": "display_data"
    },
    {
     "data": {
      "text/latex": [
       "(5) $- F_{32y} - w_{3} = m_{3} \\left(\\ddot{\\theta_2} l_{2} \\cos{\\left(\\theta_{2} \\right)} + \\frac{\\ddot{\\theta_3} l_{3} \\cos{\\left(\\theta_{3} \\right)}}{2} - \\dot{\\theta_2}^{2} l_{2} \\sin{\\left(\\theta_{2} \\right)} - \\frac{\\dot{\\theta_3}^{2} l_{3} \\sin{\\left(\\theta_{3} \\right)}}{2}\\right)$"
      ],
      "text/plain": [
       "<IPython.core.display.Latex object>"
      ]
     },
     "metadata": {},
     "output_type": "display_data"
    },
    {
     "data": {
      "text/latex": [
       "(6) $- \\frac{F_{32x} l_{3} \\sin{\\left(\\theta_{3} \\right)}}{2} + \\frac{F_{32y} l_{3} \\cos{\\left(\\theta_{3} \\right)}}{2} = I_{3} \\ddot{\\theta_3}$"
      ],
      "text/plain": [
       "<IPython.core.display.Latex object>"
      ]
     },
     "metadata": {},
     "output_type": "display_data"
    }
   ],
   "source": [
    "import sympy as sp\n",
    "from IPython.display import display, Latex\n",
    "\n",
    "F12x, F12y, F32x, F32y, m2, m3, I2, I3, w2, w3 = sp.symbols(r'F_{12x} F_{12y} F_{32x} F_{32y} m_2 m_3 I_2 I_3 w_2 w_3', real=True)\n",
    "T12, l2, l3, t2_ddot, t2_dot, t3_ddot, t3_dot = sp.symbols(r'T_{12} l_2 l_3 \\ddot{\\theta_2} \\dot{\\theta_2} \\ddot{\\theta_3} \\dot{\\theta_3}', real=True)\n",
    "t2, t3 = sp.symbols(r'\\theta_2 \\theta_3', real=True)\n",
    "\n",
    "a2 = l2/2*t2_ddot*sp.I*sp.exp(sp.I*t2) - l2/2*t2_dot**2*sp.exp(sp.I*t2)\n",
    "a2x = sp.re(a2)\n",
    "a2y = sp.im(a2)\n",
    "\n",
    "ap = l2*t2_ddot*sp.I*sp.exp(sp.I*t2) - l2*t2_dot**2*sp.exp(sp.I*t2)\n",
    "a3 = l3/2*t3_ddot*sp.I*sp.exp(sp.I*t3) - l3/2*t3_dot**2*sp.exp(sp.I*t3) + ap\n",
    "a3x = sp.re(a3)\n",
    "a3y = sp.im(a3)\n",
    "\n",
    "f1 = sp.Eq(F12x - F32x, m2*a2x)\n",
    "f2 = sp.Eq(F12y - F32y - w2, m2*a2y)\n",
    "f3 = sp.Eq(T12 - F12y*(l2/2*sp.cos(t2)) + F12x*(l2/2*sp.sin(t2)) + F32x*(l2/2*sp.sin(t2)) - F32y*(l2/2*sp.cos(t2)), I2*t2_ddot)\n",
    "f4 = sp.Eq(-F32x, m3*a3x)\n",
    "f5 = sp.Eq(-F32y - w3, m3*a3y)\n",
    "f6 = sp.Eq(-F32x*l3/2*sp.sin(t3) + F32y*l3/2*sp.cos(t3), I3*t3_ddot)\n",
    "\n",
    "for i, eq in enumerate([f1, f2, f3, f4, f5, f6]):\n",
    "    display(Latex(f'({i+1}) ${sp.latex(eq)}$'))"
   ]
  },
  {
   "cell_type": "code",
   "execution_count": 2,
   "id": "def118a3",
   "metadata": {},
   "outputs": [
    {
     "data": {
      "text/latex": [
       "$\\displaystyle \\frac{16 I_{3} T_{12} + 8 I_{3} \\dot{\\theta_3}^{2} l_{2} l_{3} m_{3} \\sin{\\left(\\theta_{2} - \\theta_{3} \\right)} - 8 I_{3} l_{2} w_{2} \\cos{\\left(\\theta_{2} \\right)} + 16 I_{3} l_{2} w_{3} \\cos{\\left(\\theta_{2} \\right)} + 4 T_{12} l_{3}^{2} m_{3} + 2 \\dot{\\theta_2}^{2} l_{2}^{2} l_{3}^{2} m_{3}^{2} \\sin{\\left(2 \\theta_{2} - 2 \\theta_{3} \\right)} + 2 \\dot{\\theta_3}^{2} l_{2} l_{3}^{3} m_{3}^{2} \\sin{\\left(\\theta_{2} - \\theta_{3} \\right)} - 2 l_{2} l_{3}^{2} m_{3} w_{2} \\cos{\\left(\\theta_{2} \\right)} + 2 l_{2} l_{3}^{2} m_{3} w_{3} \\cos{\\left(\\theta_{2} \\right)} - 2 l_{2} l_{3}^{2} m_{3} w_{3} \\cos{\\left(\\theta_{2} - 2 \\theta_{3} \\right)}}{16 I_{2} I_{3} + 4 I_{2} l_{3}^{2} m_{3} + 4 I_{3} l_{2}^{2} m_{2} - 16 I_{3} l_{2}^{2} m_{3} + l_{2}^{2} l_{3}^{2} m_{2} m_{3} + 2 l_{2}^{2} l_{3}^{2} m_{3}^{2} \\cos{\\left(2 \\theta_{2} - 2 \\theta_{3} \\right)} - 2 l_{2}^{2} l_{3}^{2} m_{3}^{2}}$"
      ],
      "text/plain": [
       "(16*I_3*T_{12} + 8*I_3*\\dot{\\theta_3}**2*l_2*l_3*m_3*sin(\\theta_2 - \\theta_3) - 8*I_3*l_2*w_2*cos(\\theta_2) + 16*I_3*l_2*w_3*cos(\\theta_2) + 4*T_{12}*l_3**2*m_3 + 2*\\dot{\\theta_2}**2*l_2**2*l_3**2*m_3**2*sin(2*\\theta_2 - 2*\\theta_3) + 2*\\dot{\\theta_3}**2*l_2*l_3**3*m_3**2*sin(\\theta_2 - \\theta_3) - 2*l_2*l_3**2*m_3*w_2*cos(\\theta_2) + 2*l_2*l_3**2*m_3*w_3*cos(\\theta_2) - 2*l_2*l_3**2*m_3*w_3*cos(\\theta_2 - 2*\\theta_3))/(16*I_2*I_3 + 4*I_2*l_3**2*m_3 + 4*I_3*l_2**2*m_2 - 16*I_3*l_2**2*m_3 + l_2**2*l_3**2*m_2*m_3 + 2*l_2**2*l_3**2*m_3**2*cos(2*\\theta_2 - 2*\\theta_3) - 2*l_2**2*l_3**2*m_3**2)"
      ]
     },
     "execution_count": 2,
     "metadata": {},
     "output_type": "execute_result"
    }
   ],
   "source": [
    "f32x = sp.solve(f4, F32x)[0]\n",
    "f32y = sp.solve(f5, F32y)[0]\n",
    "f12x = sp.solve(f1, F12x)[0].subs(F32x, f32x)\n",
    "f12y = sp.solve(f2, F12y)[0].subs(F32y, f32y)\n",
    "t3_ddot_ = sp.solve(f6.subs(F32x, f32x).subs(F32y, f32y), t3_ddot)[0]\n",
    "t2_ddot_solved = sp.solve(f3.subs(F12x, f12x).subs(F12y, f12y).subs(F32x, f32x).subs(F32y, f32y).subs(t3_ddot, t3_ddot_), t2_ddot)[0]\n",
    "t2_ddot_solved.simplify()"
   ]
  },
  {
   "cell_type": "code",
   "execution_count": 3,
   "id": "b4132781",
   "metadata": {},
   "outputs": [
    {
     "data": {
      "text/latex": [
       "$\\displaystyle \\frac{2 l_{3} \\left(4 I_{2} \\dot{\\theta_2}^{2} l_{2} m_{3} \\sin{\\left(\\theta_{2} - \\theta_{3} \\right)} - 4 I_{2} w_{3} \\cos{\\left(\\theta_{3} \\right)} - 4 T_{12} l_{2} m_{3} \\cos{\\left(\\theta_{2} - \\theta_{3} \\right)} + \\dot{\\theta_2}^{2} l_{2}^{3} m_{2} m_{3} \\sin{\\left(\\theta_{2} - \\theta_{3} \\right)} - 4 \\dot{\\theta_2}^{2} l_{2}^{3} m_{3}^{2} \\sin{\\left(\\theta_{2} - \\theta_{3} \\right)} - \\dot{\\theta_3}^{2} l_{2}^{2} l_{3} m_{3}^{2} \\sin{\\left(2 \\theta_{2} - 2 \\theta_{3} \\right)} - l_{2}^{2} m_{2} w_{3} \\cos{\\left(\\theta_{3} \\right)} + l_{2}^{2} m_{3} w_{2} \\cos{\\left(\\theta_{3} \\right)} + l_{2}^{2} m_{3} w_{2} \\cos{\\left(2 \\theta_{2} - \\theta_{3} \\right)} + 2 l_{2}^{2} m_{3} w_{3} \\cos{\\left(\\theta_{3} \\right)} - 2 l_{2}^{2} m_{3} w_{3} \\cos{\\left(2 \\theta_{2} - \\theta_{3} \\right)}\\right)}{16 I_{2} I_{3} + 4 I_{2} l_{3}^{2} m_{3} + 4 I_{3} l_{2}^{2} m_{2} - 16 I_{3} l_{2}^{2} m_{3} + l_{2}^{2} l_{3}^{2} m_{2} m_{3} + 2 l_{2}^{2} l_{3}^{2} m_{3}^{2} \\cos{\\left(2 \\theta_{2} - 2 \\theta_{3} \\right)} - 2 l_{2}^{2} l_{3}^{2} m_{3}^{2}}$"
      ],
      "text/plain": [
       "2*l_3*(4*I_2*\\dot{\\theta_2}**2*l_2*m_3*sin(\\theta_2 - \\theta_3) - 4*I_2*w_3*cos(\\theta_3) - 4*T_{12}*l_2*m_3*cos(\\theta_2 - \\theta_3) + \\dot{\\theta_2}**2*l_2**3*m_2*m_3*sin(\\theta_2 - \\theta_3) - 4*\\dot{\\theta_2}**2*l_2**3*m_3**2*sin(\\theta_2 - \\theta_3) - \\dot{\\theta_3}**2*l_2**2*l_3*m_3**2*sin(2*\\theta_2 - 2*\\theta_3) - l_2**2*m_2*w_3*cos(\\theta_3) + l_2**2*m_3*w_2*cos(\\theta_3) + l_2**2*m_3*w_2*cos(2*\\theta_2 - \\theta_3) + 2*l_2**2*m_3*w_3*cos(\\theta_3) - 2*l_2**2*m_3*w_3*cos(2*\\theta_2 - \\theta_3))/(16*I_2*I_3 + 4*I_2*l_3**2*m_3 + 4*I_3*l_2**2*m_2 - 16*I_3*l_2**2*m_3 + l_2**2*l_3**2*m_2*m_3 + 2*l_2**2*l_3**2*m_3**2*cos(2*\\theta_2 - 2*\\theta_3) - 2*l_2**2*l_3**2*m_3**2)"
      ]
     },
     "execution_count": 3,
     "metadata": {},
     "output_type": "execute_result"
    }
   ],
   "source": [
    "t2_ddot_ = sp.solve(f3.subs(F12x, f12x).subs(F12y, f12y).subs(F32x, f32x).subs(F32y, f32y), t2_ddot)[0]\n",
    "t3_ddot_solved = sp.solve(f6.subs(F32x, f32x).subs(F32y, f32y).subs(t2_ddot, t2_ddot_), t3_ddot)[0]\n",
    "t3_ddot_solved.simplify()"
   ]
  },
  {
   "cell_type": "code",
   "execution_count": 6,
   "id": "92011f13",
   "metadata": {},
   "outputs": [
    {
     "data": {
      "text/latex": [
       "$\\displaystyle \\text{True}$"
      ],
      "text/plain": [
       "True"
      ]
     },
     "execution_count": 6,
     "metadata": {},
     "output_type": "execute_result"
    }
   ],
   "source": [
    "denominator = 16*I2*I3 + 4*I2*l3**2*m3 + 4*I3*l2**2*m2 - 16*I3*l2**2*m3 + l2**2*l3**2*m2*m3 + 2*l2**2*l3**2*m3**2*sp.cos(2*t2 - 2*t3) - 2*l2**2*l3**2*m3**2\n",
    "test = 2*l3*(4*I2*t2_dot**2*l2*m3*sp.sin(t2 - t3) - 4*I2*w3*sp.cos(t3) - 4*T12*l2*m3*sp.cos(\n",
    "            t2 - t3) + t2_dot**2*l2**3*m2*m3*sp.sin(t2 - t3) - 4*t2_dot**2*l2**3*m3**2*sp.sin(\n",
    "            t2 - t3) - t3_dot**2*l2**2*l3*m3**2*sp.sin(2*t2 - 2*t3) - l2**2*m2*w3*sp.cos(t3) + l2**2*m3*w2*sp.cos(\n",
    "            t3) + l2**2*m3*w2*sp.cos(2*t2 - t3) + 2*l2**2*m3*w3*sp.cos(t3) - 2*l2**2*m3*w3*sp.cos(\n",
    "            2*t2 - t3))\n",
    "sp.Eq(t3_ddot_solved*denominator, test).simplify()"
   ]
  }
 ],
 "metadata": {
  "kernelspec": {
   "display_name": "Python 3 (ipykernel)",
   "language": "python",
   "name": "python3"
  },
  "language_info": {
   "codemirror_mode": {
    "name": "ipython",
    "version": 3
   },
   "file_extension": ".py",
   "mimetype": "text/x-python",
   "name": "python",
   "nbconvert_exporter": "python",
   "pygments_lexer": "ipython3",
   "version": "3.9.6"
  }
 },
 "nbformat": 4,
 "nbformat_minor": 5
}
